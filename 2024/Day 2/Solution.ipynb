{
 "cells": [
  {
   "cell_type": "markdown",
   "metadata": {},
   "source": [
    "--- Day 2: Red-Nosed Reports ---\n",
    "Fortunately, the first location The Historians want to search isn't a long walk from the Chief Historian's office.\n",
    "\n",
    "While the Red-Nosed Reindeer nuclear fusion/fission plant appears to contain no sign of the Chief Historian, the engineers there run up to you as soon as they see you. Apparently, they still talk about the time Rudolph was saved through molecular synthesis from a single electron.\n",
    "\n",
    "They're quick to add that - since you're already here - they'd really appreciate your help analyzing some unusual data from the Red-Nosed reactor. You turn to check if The Historians are waiting for you, but they seem to have already divided into groups that are currently searching every corner of the facility. You offer to help with the unusual data.\n",
    "\n",
    "The unusual data (your puzzle input) consists of many reports, one report per line. Each report is a list of numbers called levels that are separated by spaces. \n",
    "\n",
    "For example:\n",
    "```\n",
    "7 6 4 2 1\n",
    "1 2 7 8 9\n",
    "9 7 6 2 1\n",
    "1 3 2 4 5\n",
    "8 6 4 4 1\n",
    "1 3 6 7 9\n",
    "```\n",
    "\n",
    "This example data contains six reports each containing five levels.\n",
    "\n",
    "The engineers are trying to figure out which reports are safe. The Red-Nosed reactor safety systems can only tolerate levels that are either gradually increasing or gradually decreasing. So, a report only counts as safe if both of the following are true:\n",
    "\n",
    "- The levels are either all increasing or all decreasing.\n",
    "- Any two adjacent levels differ by at least one and at most three.\n",
    "\n",
    "In the example above, the reports can be found safe or unsafe by checking those rules:\n",
    "\n",
    "- 7 6 4 2 1: **Safe** because the levels are all decreasing by 1 or 2.\n",
    "- 1 2 7 8 9: **Unsafe** because 2 7 is an increase of 5.\n",
    "- 9 7 6 2 1: **Unsafe** because 6 2 is a decrease of 4.\n",
    "- 1 3 2 4 5: **Unsafe** because 1 3 is increasing but 3 2 is decreasing.\n",
    "- 8 6 4 4 1: **Unsafe** because 4 4 is neither an increase or a decrease.\n",
    "- 1 3 6 7 9: **Safe** because the levels are all increasing by 1, 2, or 3.\n",
    "\n",
    "So, in this example, 2 reports are safe.\n",
    "\n",
    "Analyze the unusual data from the engineers. How many reports are safe?"
   ]
  },
  {
   "cell_type": "code",
   "execution_count": 1,
   "metadata": {},
   "outputs": [
    {
     "name": "stdout",
     "output_type": "stream",
     "text": [
      "Example:\n",
      " \n",
      "7 6 4 2 1\n",
      "1 2 7 8 9\n",
      "9 7 6 2 1\n",
      "1 3 2 4 5\n",
      "8 6 4 4 1\n",
      "1 3 6 7 9\n",
      "\n",
      "Expected output: 2\n"
     ]
    }
   ],
   "source": [
    "example = \"\"\"\n",
    "7 6 4 2 1\n",
    "1 2 7 8 9\n",
    "9 7 6 2 1\n",
    "1 3 2 4 5\n",
    "8 6 4 4 1\n",
    "1 3 6 7 9\n",
    "\"\"\"\n",
    "\n",
    "expected_output_example = 2\n",
    "print(\"Example:\\n\", example)\n",
    "print(f\"Expected output: {expected_output_example}\")"
   ]
  },
  {
   "cell_type": "markdown",
   "metadata": {},
   "source": [
    "## Solution P1\n",
    "\n",
    "1. Convert the input in matrix\n",
    "2. Evaluate each row value\n",
    "    - If decreasing or increasing\n",
    "    - If the difference is between 1 or 3 units\n",
    "    - Determine if is safe or unsafe\n",
    "3. Count the safe reports\n",
    "4. Return the total safe reports\n",
    "\n",
    "> Hint: If the evaluation is unsuccesfull you can skip the next evaluations of the row"
   ]
  },
  {
   "cell_type": "markdown",
   "metadata": {},
   "source": [
    "### Approches \n",
    "\n",
    "### Basic: \n",
    "- Simple list as matrix and conditionals\n",
    "- Use of: list, map, dict, functions, if-else, range, index, for-loop"
   ]
  },
  {
   "cell_type": "code",
   "execution_count": 2,
   "metadata": {},
   "outputs": [
    {
     "name": "stdout",
     "output_type": "stream",
     "text": [
      "Results:\n",
      " {'safe': 2, 'unsafe': 4} \n",
      "-------------------------\n",
      "Expected output: 2 \n",
      "Total safe reports: 2 \n",
      "If 2 == 2 => True\n"
     ]
    }
   ],
   "source": [
    "# 1. Convert the input in list\n",
    "list_example = [list(map(int, item.split())) for item in example.strip().split(\"\\n\")]\n",
    "\n",
    "# 2. Evaluate each row value\n",
    "def evaluation(num, next_num, is_increasing=None):\n",
    "    result = False\n",
    "    diff = num - next_num\n",
    "\n",
    "    if 1 <= abs(diff) <= 3:\n",
    "        if is_increasing != None:\n",
    "            result = diff < 0 if is_increasing else diff > 0\n",
    "        else:\n",
    "            result = True\n",
    "            is_increasing = diff < 0\n",
    "\n",
    "    return result, is_increasing\n",
    "\n",
    "n_rows = len(list_example)\n",
    "n_cols = len(list_example[0])\n",
    "dict_reports = {\n",
    "    \"safe\": 0,\n",
    "    \"unsafe\": 0,\n",
    "}\n",
    "\n",
    "# 3. Count the safe reports\n",
    "for i in range(n_rows):\n",
    "    is_increasing = None\n",
    "    for j in range(n_cols - 1):\n",
    "        result, is_increasing = evaluation(list_example[i][j], list_example[i][j+1], is_increasing)\n",
    "        if not result:\n",
    "            dict_reports[\"unsafe\"] += 1\n",
    "            break\n",
    "    if result:\n",
    "        dict_reports[\"safe\"] += 1\n",
    "\n",
    "# 4. Return the total safe reports\n",
    "print(f\"Results:\\n {dict_reports} \\n{'-'*25}\\nExpected output: {expected_output_example} \\nTotal safe reports: {dict_reports['safe']} \\nIf {expected_output_example} == {dict_reports['safe']} => {expected_output_example == dict_reports['safe']}\")"
   ]
  },
  {
   "cell_type": "markdown",
   "metadata": {},
   "source": [
    "### Intermediate\n",
    "\n",
    "- Using  \n",
    "- Use of: "
   ]
  },
  {
   "cell_type": "code",
   "execution_count": null,
   "metadata": {},
   "outputs": [],
   "source": []
  },
  {
   "cell_type": "markdown",
   "metadata": {},
   "source": [
    "## Test Solution\n",
    "\n",
    "Using the file day_1_input.txt return the total sum distances"
   ]
  },
  {
   "cell_type": "code",
   "execution_count": 3,
   "metadata": {},
   "outputs": [
    {
     "name": "stdout",
     "output_type": "stream",
     "text": [
      "Results:\n",
      " {'safe': 341, 'unsafe': 659}\n",
      "\n",
      "Total safe reports: 341\n"
     ]
    }
   ],
   "source": [
    "### BASIC\n",
    "\n",
    "# 1. Read the txt file and convert into matrix\n",
    "matrix = []\n",
    "\n",
    "with open(\"day_2_input.txt\", \"r\") as file:\n",
    "    for line in file.readlines():\n",
    "        matrix.append(list(map(int, line.split())))\n",
    "\n",
    "# 2. Evaluate each row value\n",
    "def evaluation(num, next_num, is_increasing=None):\n",
    "    result = False\n",
    "    diff = num - next_num\n",
    "\n",
    "    if 1 <= abs(diff) <= 3:\n",
    "        if is_increasing != None:\n",
    "            result = diff < 0 if is_increasing else diff > 0\n",
    "        else:\n",
    "            result = True\n",
    "            is_increasing = diff < 0\n",
    "\n",
    "    return result, is_increasing\n",
    "\n",
    "n_rows = len(matrix)\n",
    "dict_reports = {\n",
    "    \"safe\": 0,\n",
    "    \"unsafe\": 0,\n",
    "}\n",
    "\n",
    "# 3. Count the safe reports\n",
    "for i in range(n_rows):\n",
    "    is_increasing = None\n",
    "    n_cols = len(matrix[i])\n",
    "    for j in range(n_cols - 1):\n",
    "        result, is_increasing = evaluation(matrix[i][j], matrix[i][j+1], is_increasing)\n",
    "        if not result:\n",
    "            dict_reports[\"unsafe\"] += 1\n",
    "            break\n",
    "    if result:\n",
    "        dict_reports[\"safe\"] += 1\n",
    "\n",
    "# 4. Return the total safe reports\n",
    "print(\"Results:\\n\",dict_reports)\n",
    "print(f\"\\nTotal safe reports: {dict_reports['safe']}\")\n"
   ]
  },
  {
   "cell_type": "code",
   "execution_count": 4,
   "metadata": {},
   "outputs": [],
   "source": [
    "# INTERMEDIATE\n"
   ]
  },
  {
   "cell_type": "markdown",
   "metadata": {},
   "source": [
    "--- Part Two ---\n",
    "\n",
    "The engineers are surprised by the low number of safe reports until they realize they forgot to tell you about the Problem Dampener.\n",
    "\n",
    "The Problem Dampener is a reactor-mounted module that lets the reactor safety systems tolerate a single bad level in what would otherwise be a safe report. It's like the bad level never happened!\n",
    "\n",
    "Now, the same rules apply as before, except if removing a single level from an unsafe report would make it safe, the report instead counts as safe.\n",
    "\n",
    "More of the above example's reports are now safe:\n",
    "\n",
    "- 7 6 4 2 1: Safe without removing any level.\n",
    "- 1 2 7 8 9: Unsafe regardless of which level is removed.\n",
    "- 9 7 6 2 1: Unsafe regardless of which level is removed.\n",
    "- 1 3 2 4 5: Safe by removing the second level, 3.\n",
    "- 8 6 4 4 1: Safe by removing the third level, 4.\n",
    "- 1 3 6 7 9: Safe without removing any level.\n",
    "\n",
    "Thanks to the Problem Dampener, 4 reports are actually safe!\n",
    "\n",
    "Update your analysis by handling situations where the Problem Dampener can remove a single level from unsafe reports. How many reports are now safe?"
   ]
  },
  {
   "cell_type": "code",
   "execution_count": 5,
   "metadata": {},
   "outputs": [
    {
     "name": "stdout",
     "output_type": "stream",
     "text": [
      "Example:\n",
      " \n",
      "7 6 4 2 1\n",
      "1 2 7 8 9\n",
      "9 7 6 2 1\n",
      "1 3 2 4 5\n",
      "8 6 4 4 1\n",
      "1 3 6 7 9\n",
      "\n",
      "Expected output: 4\n"
     ]
    }
   ],
   "source": [
    "expected_output_example = 4\n",
    "print(\"Example:\\n\", example)\n",
    "print(f\"Expected output: {expected_output_example}\")"
   ]
  },
  {
   "cell_type": "markdown",
   "metadata": {},
   "source": [
    "## Solution P2\n",
    "\n",
    "1. Convert the input in matrix\n",
    "2. Evaluate each row value\n",
    "    - If decreasing or increasing\n",
    "    - If the difference is between 1 or 3 units\n",
    "    - Determine if is safe or unsafe\n",
    "    - If the evaluation is false try without this element\n",
    "3. Count the safe reports\n",
    "4. Return the total safe reports"
   ]
  },
  {
   "cell_type": "markdown",
   "metadata": {},
   "source": [
    "### Approches \n",
    "\n",
    "### Basic: \n",
    "- Simple list and normal methods\n",
    "- Use of: strip, split, count, zip, sum"
   ]
  },
  {
   "cell_type": "code",
   "execution_count": 6,
   "metadata": {},
   "outputs": [
    {
     "name": "stdout",
     "output_type": "stream",
     "text": [
      "Results:\n",
      " {'safe': 4, 'unsafe': 2} \n",
      "-------------------------\n",
      "Expected output: 4 \n",
      "Total safe reports: 4 \n",
      "If 4 == 4 => True\n"
     ]
    }
   ],
   "source": [
    "# 1. Convert the input in list\n",
    "list_example = [list(map(int, item.split())) for item in example.strip().split(\"\\n\")]\n",
    "\n",
    "# 2. Evaluate each row value\n",
    "def evaluation(num, next_num, is_increasing=None):\n",
    "    result = False\n",
    "    diff = num - next_num\n",
    "\n",
    "    if 1 <= abs(diff) <= 3:\n",
    "        if is_increasing != None:\n",
    "            result = diff < 0 if is_increasing else diff > 0\n",
    "        else:\n",
    "            result = True\n",
    "            is_increasing = diff < 0\n",
    "\n",
    "    return result, is_increasing\n",
    "\n",
    "n_rows = len(list_example)\n",
    "n_cols = len(list_example[0])\n",
    "dict_reports = {\n",
    "    \"safe\": 0,\n",
    "    \"unsafe\": 0,\n",
    "}\n",
    "\n",
    "# 3. Count the safe reports\n",
    "try_count = 0\n",
    "MAX_TRIES = 1\n",
    "index = -1\n",
    "i = 0\n",
    "\n",
    "while i < n_rows:\n",
    "    is_increasing = None\n",
    "    n_cols = len(list_example[i])\n",
    "\n",
    "    for j in range(n_cols - 1):\n",
    "        result, is_increasing = evaluation(list_example[i][j], list_example[i][j+1], is_increasing)\n",
    "        if not result:\n",
    "            try_count += 1\n",
    "            index = j\n",
    "            break\n",
    "\n",
    "    if result:\n",
    "        dict_reports[\"safe\"] += 1\n",
    "        try_count = 0\n",
    "    else:\n",
    "        if try_count <= MAX_TRIES:\n",
    "            del list_example[i][index]\n",
    "            continue\n",
    "\n",
    "        dict_reports[\"unsafe\"] += 1\n",
    "        try_count = 0\n",
    "\n",
    "\n",
    "    i += 1\n",
    "\n",
    "# 4. Return the total safe reports\n",
    "print(f\"Results:\\n {dict_reports} \\n{'-'*25}\\nExpected output: {expected_output_example} \\nTotal safe reports: {dict_reports['safe']} \\nIf {expected_output_example} == {dict_reports['safe']} => {expected_output_example == dict_reports['safe']}\")\n"
   ]
  },
  {
   "cell_type": "markdown",
   "metadata": {},
   "source": [
    "### Intermediate\n",
    "\n",
    "- Using pandas \n",
    "- Use of: map, df, lambda, apply, sum"
   ]
  },
  {
   "cell_type": "code",
   "execution_count": null,
   "metadata": {},
   "outputs": [],
   "source": []
  },
  {
   "cell_type": "markdown",
   "metadata": {},
   "source": [
    "## Test Solution P2\n",
    "\n",
    "Using the file day_1_input.txt return the sum of similarity score"
   ]
  },
  {
   "cell_type": "code",
   "execution_count": 7,
   "metadata": {},
   "outputs": [
    {
     "name": "stdout",
     "output_type": "stream",
     "text": [
      "Results:\n",
      " {'safe': 404, 'unsafe': 596} \n",
      "-------------------------\n",
      "Total safe reports: 404\n"
     ]
    }
   ],
   "source": [
    "### BASIC\n",
    "\n",
    "# 1. Read the txt file and convert into list\n",
    "list_ = []\n",
    "\n",
    "with open(\"day_2_input.txt\", \"r\") as file:\n",
    "    for line in file.readlines():\n",
    "        list_.append(list(map(int, line.split())))\n",
    "\n",
    "# 2. Evaluate each row value\n",
    "def evaluation(num, next_num, is_increasing=None):\n",
    "    result = False\n",
    "    diff = num - next_num\n",
    "    \n",
    "\n",
    "    if 1 <= abs(diff) <= 3:\n",
    "        if is_increasing != None:\n",
    "            result = diff < 0 if is_increasing else diff > 0\n",
    "        else:\n",
    "            result = True\n",
    "            is_increasing = diff < 0\n",
    "\n",
    "    return result, is_increasing\n",
    "\n",
    "def evaluate_row(row):\n",
    "    final_result = False\n",
    "\n",
    "    for idx in range(len(row)):\n",
    "        is_increasing = None\n",
    "        tmp = row.copy()\n",
    "        del tmp[idx]\n",
    "\n",
    "        for i in range(len(tmp) - 1):\n",
    "            result, is_increasing = evaluation(tmp[i], tmp[i+1], is_increasing)\n",
    "            if not result:\n",
    "                break\n",
    "\n",
    "        if result:\n",
    "            final_result = result\n",
    "            break\n",
    "    \n",
    "    return final_result\n",
    "\n",
    "\n",
    "n_rows = len(list_)\n",
    "n_cols = len(list_[0])\n",
    "dict_reports = {\n",
    "    \"safe\": 0,\n",
    "    \"unsafe\": 0,\n",
    "}\n",
    "\n",
    "# 3. Count the safe reports\n",
    "i = 0\n",
    "\n",
    "while i < n_rows:\n",
    "    is_increasing = None\n",
    "    n_cols = len(list_[i])\n",
    "\n",
    "    for j in range(n_cols - 1):\n",
    "        result, is_increasing = evaluation(list_[i][j], list_[i][j+1], is_increasing)\n",
    "        if not result:\n",
    "            index = j\n",
    "            result = evaluate_row(list_[i])\n",
    "            break\n",
    "\n",
    "    if result:\n",
    "        dict_reports[\"safe\"] += 1\n",
    "    else:\n",
    "        dict_reports[\"unsafe\"] += 1\n",
    "\n",
    "    i += 1\n",
    "\n",
    "# 4. Return the total safe reports\n",
    "print(f\"Results:\\n {dict_reports} \\n{'-'*25}\\nTotal safe reports: {dict_reports['safe']}\")\n"
   ]
  },
  {
   "cell_type": "code",
   "execution_count": 8,
   "metadata": {},
   "outputs": [],
   "source": [
    "### INERMEDIATE\n"
   ]
  }
 ],
 "metadata": {
  "kernelspec": {
   "display_name": "Python 3",
   "language": "python",
   "name": "python3"
  },
  "language_info": {
   "codemirror_mode": {
    "name": "ipython",
    "version": 3
   },
   "file_extension": ".py",
   "mimetype": "text/x-python",
   "name": "python",
   "nbconvert_exporter": "python",
   "pygments_lexer": "ipython3",
   "version": "3.12.1"
  }
 },
 "nbformat": 4,
 "nbformat_minor": 2
}
